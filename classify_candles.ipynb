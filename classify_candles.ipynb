{
 "cells": [
  {
   "cell_type": "markdown",
   "metadata": {},
   "source": [
    "# Classify price movements based on candlesticks statistics\n",
    "\n",
    "This reseach comes from [this](https://www.forexfactory.com/thread/post/14707863#post14707863) post on ForexFactory. \n",
    "\n",
    "### Step 1: gather data and create a rolling TF"
   ]
  },
  {
   "cell_type": "code",
   "execution_count": null,
   "metadata": {},
   "outputs": [],
   "source": [
    "# This allow jupiter to upload in real time externally modified code\n",
    "%load_ext autoreload\n",
    "%autoreload 2 \n",
    "\n",
    "from x_CLASSES.download_data import DownloadData\n",
    "import os\n",
    "import pandas as pd\n",
    "import numpy as np"
   ]
  },
  {
   "cell_type": "code",
   "execution_count": null,
   "metadata": {},
   "outputs": [],
   "source": [
    "start_date = \"01-12-2023\"\n",
    "end_date = \"24-12-2023\"\n",
    "timeframe = 'tick'\n",
    "\n",
    "csv_file_path = f\"{os.getcwd()}/x_DATA/{start_date}_{end_date}  {timeframe}.csv\"\n",
    "\n",
    "if os.path.exists(csv_file_path):\n",
    "    df = pd.read_csv(csv_file_path)\n",
    "else:\n",
    "    data_folder_path = f\"{os.getcwd()}/x_DATA\"\n",
    "    if not os.path.exists(data_folder_path):\n",
    "        os.makedirs(data_folder_path)\n",
    "\n",
    "    !wget -P ./x_DATA https://raw.githubusercontent.com/ironhak/test4anti/main/x_DATA/01-12-2023_24-12-2023%20%20tick.csv\n",
    "    df = pd.read_csv(csv_file_path)\n",
    "\n",
    "df"
   ]
  },
  {
   "cell_type": "code",
   "execution_count": null,
   "metadata": {},
   "outputs": [],
   "source": [
    "if \"Ask\" in df.columns:\n",
    "    df = df.drop(\"Ask\", axis=1)\n",
    "\n",
    "df[\"Close\"] = df[\"Bid\"]\n",
    "df[\"Open\"] = df[\"Bid\"].shift(1000)  # Shift the \"Bid\" values 1000 rows back\n",
    "df[\"High\"] = df[\"Bid\"].rolling(window=1000).max()  # Calculate the rolling max over the last 1000 rows\n",
    "df[\"Low\"] = df[\"Bid\"].rolling(window=1000).min()  # Calculate the rolling min over the last 1000 rows\n",
    "\n",
    "df = df.dropna()\n",
    "df"
   ]
  },
  {
   "cell_type": "markdown",
   "metadata": {},
   "source": [
    "### Step 2: Directional bias"
   ]
  },
  {
   "cell_type": "code",
   "execution_count": null,
   "metadata": {},
   "outputs": [],
   "source": [
    "df['Open - Close'] = (df['Open'] - df['Close']).abs()\n",
    "df['Upper Wick'] = (df['High'] - df[['Open', 'Close']].max(axis=1)).abs()\n",
    "df['Lower Wick'] = (df[['Open', 'Close']].min(axis=1) - df['Low']).abs()\n",
    "\n",
    "df['Bias'] = np.where(df['Open'] > df['Close'], 'Bearish', np.where(df['Close'] > df['Open'], 'Bullish', 'Doji'))\n",
    "\n",
    "df\n"
   ]
  },
  {
   "cell_type": "markdown",
   "metadata": {},
   "source": [
    "### Step 3: Strength of directional bias\n",
    "It can be:\n",
    "- weak\n",
    "- medium (\"normal\")\n",
    "- strong\n",
    "\n",
    "I'll calculate the average candlestick like: $\\frac{\\text{Average Bullish candlestick OC}+\\text{Average Bearish candlestick OC}}{2}$. \n",
    "Then I'll calculate the standard deviation of the bullish candles OC and bearish candles OC and then: $\\frac{\\text{St.dev Bullish candlestick OC}+\\text{St.dev Bearish candlestick OC}}{2}$. \n",
    "And lastly I'll create a boundary around the average, meaning that:\n",
    "- If a bullish candle OC is $>=\\mu+\\sigma$ then it's strong. \n",
    "- If a bullish candle OC is $>=\\mu$ and $<\\mu+\\sigma$ then it's medium (\"normal\").\n",
    "- If a bullish candle OC is $<=\\mu-\\sigma$ then it's weak."
   ]
  },
  {
   "cell_type": "code",
   "execution_count": null,
   "metadata": {},
   "outputs": [],
   "source": [
    "\n",
    "# Filter rows where Bias is \"Bullish\"\n",
    "bullish_rows = df[df['Bias'] == 'Bullish']\n",
    "bearish_rows = df[df['Bias'] == 'Bearish']\n",
    "\n",
    "# average bullish and bearish candle OC\n",
    "average_bullish_diff = bullish_rows['Open - Close'].mean()\n",
    "average_bearish_diff = bearish_rows['Open - Close'].mean()\n",
    "mu = ( average_bullish_diff + average_bearish_diff ) / 2\n",
    "\n",
    "# stdev bullish and bearish candle OC\n",
    "stdev_bullish_diff = bullish_rows['Open - Close'].std()\n",
    "stdev_bearish_diff = bearish_rows['Open - Close'].std()\n",
    "sigma = ( stdev_bullish_diff + stdev_bearish_diff ) / 2\n",
    "\n",
    "\n",
    "# assign strenght bias\n",
    "df['Strength'] = np.where(df['Open - Close'] >= mu + sigma, 'Strong',\n",
    "                          np.where((df['Open - Close'] > mu-sigma) & (df['Open - Close'] < mu + sigma), 'Medium', 'Weak'))\n",
    "\n",
    "df"
   ]
  }
 ],
 "metadata": {
  "kernelspec": {
   "display_name": "Python",
   "language": "python",
   "name": "python3"
  },
  "language_info": {
   "codemirror_mode": {
    "name": "ipython",
    "version": 3
   },
   "file_extension": ".py",
   "mimetype": "text/x-python",
   "name": "python",
   "nbconvert_exporter": "python",
   "pygments_lexer": "ipython3",
   "version": "3.11.7"
  }
 },
 "nbformat": 4,
 "nbformat_minor": 2
}
