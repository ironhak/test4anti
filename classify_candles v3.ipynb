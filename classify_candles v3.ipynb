{
 "cells": [
  {
   "cell_type": "markdown",
   "metadata": {},
   "source": [
    "# Classify price movements based on candlesticks statistics\n",
    "\n",
    "This reseach comes from [this](https://www.forexfactory.com/thread/post/14707863#post14707863) post on ForexFactory. \n",
    "\n",
    "### Step 1: Calculations"
   ]
  },
  {
   "cell_type": "code",
   "execution_count": 89,
   "metadata": {},
   "outputs": [
    {
     "name": "stdout",
     "output_type": "stream",
     "text": [
      "The autoreload extension is already loaded. To reload it, use:\n",
      "  %reload_ext autoreload\n"
     ]
    },
    {
     "data": {
      "text/html": [
       "<div>\n",
       "<style scoped>\n",
       "    .dataframe tbody tr th:only-of-type {\n",
       "        vertical-align: middle;\n",
       "    }\n",
       "\n",
       "    .dataframe tbody tr th {\n",
       "        vertical-align: top;\n",
       "    }\n",
       "\n",
       "    .dataframe thead th {\n",
       "        text-align: right;\n",
       "    }\n",
       "</style>\n",
       "<table border=\"1\" class=\"dataframe\">\n",
       "  <thead>\n",
       "    <tr style=\"text-align: right;\">\n",
       "      <th></th>\n",
       "      <th>Timestamp</th>\n",
       "      <th>Bid</th>\n",
       "      <th>Close</th>\n",
       "      <th>Open</th>\n",
       "      <th>High</th>\n",
       "      <th>Low</th>\n",
       "      <th>High Time</th>\n",
       "      <th>Low Time</th>\n",
       "      <th>High First</th>\n",
       "      <th>Open - Close</th>\n",
       "      <th>Upper Wick</th>\n",
       "      <th>Lower Wick</th>\n",
       "      <th>Bias</th>\n",
       "      <th>Strength</th>\n",
       "    </tr>\n",
       "  </thead>\n",
       "  <tbody>\n",
       "    <tr>\n",
       "      <th>1000</th>\n",
       "      <td>2023-12-01 00:21:58.140000+00:00</td>\n",
       "      <td>1.26378</td>\n",
       "      <td>1.26378</td>\n",
       "      <td>1.26305</td>\n",
       "      <td>1.26397</td>\n",
       "      <td>1.26298</td>\n",
       "      <td>820.00000</td>\n",
       "      <td>14.00000</td>\n",
       "      <td>False</td>\n",
       "      <td>0.00073</td>\n",
       "      <td>0.00019</td>\n",
       "      <td>0.00007</td>\n",
       "      <td>Bullish</td>\n",
       "      <td>Strong</td>\n",
       "    </tr>\n",
       "    <tr>\n",
       "      <th>1001</th>\n",
       "      <td>2023-12-01 00:22:00.557000+00:00</td>\n",
       "      <td>1.26377</td>\n",
       "      <td>1.26377</td>\n",
       "      <td>1.26306</td>\n",
       "      <td>1.26397</td>\n",
       "      <td>1.26298</td>\n",
       "      <td>819.00000</td>\n",
       "      <td>13.00000</td>\n",
       "      <td>False</td>\n",
       "      <td>0.00071</td>\n",
       "      <td>0.00020</td>\n",
       "      <td>0.00008</td>\n",
       "      <td>Bullish</td>\n",
       "      <td>Strong</td>\n",
       "    </tr>\n",
       "    <tr>\n",
       "      <th>1002</th>\n",
       "      <td>2023-12-01 00:22:00.912000+00:00</td>\n",
       "      <td>1.26378</td>\n",
       "      <td>1.26378</td>\n",
       "      <td>1.26305</td>\n",
       "      <td>1.26397</td>\n",
       "      <td>1.26298</td>\n",
       "      <td>818.00000</td>\n",
       "      <td>12.00000</td>\n",
       "      <td>False</td>\n",
       "      <td>0.00073</td>\n",
       "      <td>0.00019</td>\n",
       "      <td>0.00007</td>\n",
       "      <td>Bullish</td>\n",
       "      <td>Strong</td>\n",
       "    </tr>\n",
       "    <tr>\n",
       "      <th>1003</th>\n",
       "      <td>2023-12-01 00:22:01.166000+00:00</td>\n",
       "      <td>1.26378</td>\n",
       "      <td>1.26378</td>\n",
       "      <td>1.26306</td>\n",
       "      <td>1.26397</td>\n",
       "      <td>1.26298</td>\n",
       "      <td>817.00000</td>\n",
       "      <td>11.00000</td>\n",
       "      <td>False</td>\n",
       "      <td>0.00072</td>\n",
       "      <td>0.00019</td>\n",
       "      <td>0.00008</td>\n",
       "      <td>Bullish</td>\n",
       "      <td>Strong</td>\n",
       "    </tr>\n",
       "    <tr>\n",
       "      <th>1004</th>\n",
       "      <td>2023-12-01 00:22:01.317000+00:00</td>\n",
       "      <td>1.26378</td>\n",
       "      <td>1.26378</td>\n",
       "      <td>1.26304</td>\n",
       "      <td>1.26397</td>\n",
       "      <td>1.26298</td>\n",
       "      <td>816.00000</td>\n",
       "      <td>10.00000</td>\n",
       "      <td>False</td>\n",
       "      <td>0.00074</td>\n",
       "      <td>0.00019</td>\n",
       "      <td>0.00006</td>\n",
       "      <td>Bullish</td>\n",
       "      <td>Strong</td>\n",
       "    </tr>\n",
       "    <tr>\n",
       "      <th>...</th>\n",
       "      <td>...</td>\n",
       "      <td>...</td>\n",
       "      <td>...</td>\n",
       "      <td>...</td>\n",
       "      <td>...</td>\n",
       "      <td>...</td>\n",
       "      <td>...</td>\n",
       "      <td>...</td>\n",
       "      <td>...</td>\n",
       "      <td>...</td>\n",
       "      <td>...</td>\n",
       "      <td>...</td>\n",
       "      <td>...</td>\n",
       "      <td>...</td>\n",
       "    </tr>\n",
       "    <tr>\n",
       "      <th>2383418</th>\n",
       "      <td>2024-01-04 23:59:36.774000+00:00</td>\n",
       "      <td>1.26810</td>\n",
       "      <td>1.26810</td>\n",
       "      <td>1.26834</td>\n",
       "      <td>1.26856</td>\n",
       "      <td>1.26795</td>\n",
       "      <td>255.00000</td>\n",
       "      <td>119.00000</td>\n",
       "      <td>False</td>\n",
       "      <td>0.00024</td>\n",
       "      <td>0.00022</td>\n",
       "      <td>0.00015</td>\n",
       "      <td>Bearish</td>\n",
       "      <td>Weak</td>\n",
       "    </tr>\n",
       "    <tr>\n",
       "      <th>2383419</th>\n",
       "      <td>2024-01-04 23:59:41.153000+00:00</td>\n",
       "      <td>1.26808</td>\n",
       "      <td>1.26808</td>\n",
       "      <td>1.26833</td>\n",
       "      <td>1.26856</td>\n",
       "      <td>1.26795</td>\n",
       "      <td>254.00000</td>\n",
       "      <td>118.00000</td>\n",
       "      <td>False</td>\n",
       "      <td>0.00025</td>\n",
       "      <td>0.00023</td>\n",
       "      <td>0.00013</td>\n",
       "      <td>Bearish</td>\n",
       "      <td>Weak</td>\n",
       "    </tr>\n",
       "    <tr>\n",
       "      <th>2383420</th>\n",
       "      <td>2024-01-04 23:59:41.256000+00:00</td>\n",
       "      <td>1.26808</td>\n",
       "      <td>1.26808</td>\n",
       "      <td>1.26835</td>\n",
       "      <td>1.26856</td>\n",
       "      <td>1.26795</td>\n",
       "      <td>253.00000</td>\n",
       "      <td>117.00000</td>\n",
       "      <td>False</td>\n",
       "      <td>0.00027</td>\n",
       "      <td>0.00021</td>\n",
       "      <td>0.00013</td>\n",
       "      <td>Bearish</td>\n",
       "      <td>Weak</td>\n",
       "    </tr>\n",
       "    <tr>\n",
       "      <th>2383421</th>\n",
       "      <td>2024-01-04 23:59:55.951000+00:00</td>\n",
       "      <td>1.26805</td>\n",
       "      <td>1.26805</td>\n",
       "      <td>1.26840</td>\n",
       "      <td>1.26856</td>\n",
       "      <td>1.26795</td>\n",
       "      <td>252.00000</td>\n",
       "      <td>116.00000</td>\n",
       "      <td>False</td>\n",
       "      <td>0.00035</td>\n",
       "      <td>0.00016</td>\n",
       "      <td>0.00010</td>\n",
       "      <td>Bearish</td>\n",
       "      <td>Weak</td>\n",
       "    </tr>\n",
       "    <tr>\n",
       "      <th>2383422</th>\n",
       "      <td>2024-01-04 23:59:58.573000+00:00</td>\n",
       "      <td>1.26807</td>\n",
       "      <td>1.26807</td>\n",
       "      <td>1.26837</td>\n",
       "      <td>1.26856</td>\n",
       "      <td>1.26795</td>\n",
       "      <td>251.00000</td>\n",
       "      <td>115.00000</td>\n",
       "      <td>False</td>\n",
       "      <td>0.00030</td>\n",
       "      <td>0.00019</td>\n",
       "      <td>0.00012</td>\n",
       "      <td>Bearish</td>\n",
       "      <td>Weak</td>\n",
       "    </tr>\n",
       "  </tbody>\n",
       "</table>\n",
       "<p>2382423 rows × 14 columns</p>\n",
       "</div>"
      ],
      "text/plain": [
       "                                Timestamp     Bid   Close    Open    High  \\\n",
       "1000     2023-12-01 00:21:58.140000+00:00 1.26378 1.26378 1.26305 1.26397   \n",
       "1001     2023-12-01 00:22:00.557000+00:00 1.26377 1.26377 1.26306 1.26397   \n",
       "1002     2023-12-01 00:22:00.912000+00:00 1.26378 1.26378 1.26305 1.26397   \n",
       "1003     2023-12-01 00:22:01.166000+00:00 1.26378 1.26378 1.26306 1.26397   \n",
       "1004     2023-12-01 00:22:01.317000+00:00 1.26378 1.26378 1.26304 1.26397   \n",
       "...                                   ...     ...     ...     ...     ...   \n",
       "2383418  2024-01-04 23:59:36.774000+00:00 1.26810 1.26810 1.26834 1.26856   \n",
       "2383419  2024-01-04 23:59:41.153000+00:00 1.26808 1.26808 1.26833 1.26856   \n",
       "2383420  2024-01-04 23:59:41.256000+00:00 1.26808 1.26808 1.26835 1.26856   \n",
       "2383421  2024-01-04 23:59:55.951000+00:00 1.26805 1.26805 1.26840 1.26856   \n",
       "2383422  2024-01-04 23:59:58.573000+00:00 1.26807 1.26807 1.26837 1.26856   \n",
       "\n",
       "            Low  High Time  Low Time  High First  Open - Close  Upper Wick  \\\n",
       "1000    1.26298  820.00000  14.00000       False       0.00073     0.00019   \n",
       "1001    1.26298  819.00000  13.00000       False       0.00071     0.00020   \n",
       "1002    1.26298  818.00000  12.00000       False       0.00073     0.00019   \n",
       "1003    1.26298  817.00000  11.00000       False       0.00072     0.00019   \n",
       "1004    1.26298  816.00000  10.00000       False       0.00074     0.00019   \n",
       "...         ...        ...       ...         ...           ...         ...   \n",
       "2383418 1.26795  255.00000 119.00000       False       0.00024     0.00022   \n",
       "2383419 1.26795  254.00000 118.00000       False       0.00025     0.00023   \n",
       "2383420 1.26795  253.00000 117.00000       False       0.00027     0.00021   \n",
       "2383421 1.26795  252.00000 116.00000       False       0.00035     0.00016   \n",
       "2383422 1.26795  251.00000 115.00000       False       0.00030     0.00019   \n",
       "\n",
       "         Lower Wick     Bias Strength  \n",
       "1000        0.00007  Bullish   Strong  \n",
       "1001        0.00008  Bullish   Strong  \n",
       "1002        0.00007  Bullish   Strong  \n",
       "1003        0.00008  Bullish   Strong  \n",
       "1004        0.00006  Bullish   Strong  \n",
       "...             ...      ...      ...  \n",
       "2383418     0.00015  Bearish     Weak  \n",
       "2383419     0.00013  Bearish     Weak  \n",
       "2383420     0.00013  Bearish     Weak  \n",
       "2383421     0.00010  Bearish     Weak  \n",
       "2383422     0.00012  Bearish     Weak  \n",
       "\n",
       "[2382423 rows x 14 columns]"
      ]
     },
     "execution_count": 89,
     "metadata": {},
     "output_type": "execute_result"
    }
   ],
   "source": [
    "# This allow jupiter to upload in real time externally modified code\n",
    "%load_ext autoreload\n",
    "%autoreload 2 \n",
    "\n",
    "\n",
    "import sys\n",
    "sys.path.append(\"..\")\n",
    "import os\n",
    "import pandas as pd\n",
    "pd.options.mode.chained_assignment = None  # default='warn'\n",
    "import numpy as np\n",
    "from IPython.display import display, HTML\n",
    "from x_CLASSES.download_data import DownloadData\n",
    "pd.options.display.float_format = '{:.5f}'.format\n",
    "\n",
    "\n",
    "start_date = \"01-12-2023\"\n",
    "end_date = \"05-01-2024\"\n",
    "timeframe = 'tick'\n",
    "price_frame = 1000\n",
    "\n",
    "csv_file_path = f\"{os.path.dirname(os.getcwd())}/x_DATA/{start_date}_{end_date}  {timeframe}.csv\"\n",
    "\n",
    "df = pd.DataFrame()\n",
    "\n",
    "\n",
    "if os.path.exists(csv_file_path):\n",
    "    df = pd.read_csv(csv_file_path)\n",
    "else:\n",
    "    df = DownloadData('GBP/USD', start_date,end_date,timeframe).getData()\n",
    "    \n",
    "    data_folder_path = f\"{os.getcwd()}/x_DATA\"\n",
    "    if not os.path.exists(data_folder_path):\n",
    "        os.makedirs(data_folder_path)\n",
    "\n",
    "    df.to_csv(csv_file_path)\n",
    "\n",
    "if \"Ask\" in df.columns:\n",
    "    df = df.drop(\"Ask\", axis=1)\n",
    "\n",
    "df[\"Close\"] = df[\"Bid\"].copy()\n",
    "df[\"Open\"] = df[\"Bid\"].shift(price_frame)  # Shift the \"Bid\" values 1000 rows back\n",
    "df[\"High\"] = df[\"Bid\"].rolling(window=price_frame).max()  # Calculate the rolling max over the last 1000 rows\n",
    "df[\"Low\"] = df[\"Bid\"].rolling(window=price_frame).min()  # Calculate the rolling min over the last 1000 rows\n",
    "\n",
    "# Calculate the index of the maximum value in the rolling window for \"High time\"\n",
    "df['High Time'] =  price_frame - ( df.index.values - df['Bid'].rolling(window=price_frame).agg(lambda x: x.index.values[np.argmax(x.values)]) ) \n",
    "df[\"Low Time\"] = price_frame  - ( df.index.values - df['Bid'].rolling(window=price_frame).agg(lambda x: x.index.values[np.argmin(x.values)]) )\n",
    "\n",
    "df['High First'] = df['High Time'] < df[\"Low Time\"]\n",
    "\n",
    "df = df.dropna() #Drop initial NaN values\n",
    "\n",
    "# DIRECTIONAL BIAS\n",
    "df['Open - Close'] = (df['Open'] - df['Close']).abs()\n",
    "df['Upper Wick'] = (df['High'] - df[['Open', 'Close']].max(axis=1))\n",
    "df['Lower Wick'] = (df[['Open', 'Close']].min(axis=1) - df['Low'])\n",
    "\n",
    "df['Bias'] = np.where(df['Open'] > df['Close'], 'Bearish', np.where(df['Close'] > df['Open'], 'Bullish', 'Doji'))\n",
    "\n",
    "# STRENGHT\n",
    "# Filter rows where Bias is \"Bullish\"\n",
    "bullish_rows = df[df['Bias'] == 'Bullish']\n",
    "bearish_rows = df[df['Bias'] == 'Bearish']\n",
    "\n",
    "# average directional OC\n",
    "average_bullish_oc = bullish_rows['Open - Close'].mean()\n",
    "average_bearish_oc = bearish_rows['Open - Close'].mean()\n",
    "avg_oc = ( average_bullish_oc + average_bearish_oc ) / 2\n",
    "\n",
    "# average bullish and bearish candle Wick (relative to close)\n",
    "average_bullish_upper = bullish_rows['Upper Wick'].mean()\n",
    "average_bearish_lower = bearish_rows['Lower Wick'].mean()\n",
    "avg_wk = avg_oc + ( average_bullish_upper + average_bearish_lower ) / 2\n",
    "\n",
    "# assign strenght bias\n",
    "df['Strength'] = np.where(df['Open - Close'] > avg_wk, 'Strong',\n",
    "                          np.where((df['Open - Close'] > avg_oc) & (df['Open - Close'] <= avg_wk), 'Medium', 'Weak'))\n",
    "\n",
    "\n",
    "df"
   ]
  },
  {
   "cell_type": "markdown",
   "metadata": {},
   "source": [
    "### Step 2: Categories"
   ]
  },
  {
   "cell_type": "code",
   "execution_count": 90,
   "metadata": {},
   "outputs": [
    {
     "data": {
      "text/html": [
       "<p style=\"font-size: 18px;\">CATEGORIES:</p>"
      ],
      "text/plain": [
       "<IPython.core.display.HTML object>"
      ]
     },
     "metadata": {},
     "output_type": "display_data"
    },
    {
     "data": {
      "text/html": [
       "<table>\n",
       "<thead>\n",
       "<tr><th style=\"text-align: center;\"> Thresholds </th><th style=\"text-align: center;\">      Value      </th></tr>\n",
       "</thead>\n",
       "<tbody>\n",
       "<tr><td style=\"text-align: center;\">    Weak    </td><td style=\"text-align: center;\">   0 - 0.00046   </td></tr>\n",
       "<tr><td style=\"text-align: center;\">   Medium   </td><td style=\"text-align: center;\">0.00046 - 0.00067</td></tr>\n",
       "<tr><td style=\"text-align: center;\">   Strong   </td><td style=\"text-align: center;\">    &gt;0.00067     </td></tr>\n",
       "</tbody>\n",
       "</table>"
      ],
      "text/plain": [
       "<IPython.core.display.HTML object>"
      ]
     },
     "metadata": {},
     "output_type": "display_data"
    }
   ],
   "source": [
    "unique_strengthes = ['Weak','Medium','Strong']\n",
    "\n",
    "thresholds_list = {\n",
    "    'Thresholds' : thresholds ,\n",
    "    'Value' : [f'0 - {round(avg_oc, 5)}',f'{round(avg_oc, 5)} - {round(avg_wk, 5)}', f'>{round(avg_wk, 5)}']\n",
    "}\n",
    "\n",
    "print_ = f'<p style=\"font-size: 18px;\">CATEGORIES:</p>'\n",
    "display(HTML(print_))\n",
    "display(HTML(tabulate(thresholds_list, headers='keys', tablefmt='html', showindex=False, floatfmt=\".5f\", numalign=\"center\", stralign=\"center\")))"
   ]
  },
  {
   "cell_type": "markdown",
   "metadata": {},
   "source": [
    "### Step 3: Statistics"
   ]
  },
  {
   "cell_type": "code",
   "execution_count": 123,
   "metadata": {},
   "outputs": [
    {
     "data": {
      "text/html": [
       "<hr>"
      ],
      "text/plain": [
       "<IPython.core.display.HTML object>"
      ]
     },
     "metadata": {},
     "output_type": "display_data"
    },
    {
     "data": {
      "text/html": [
       "<hr>"
      ],
      "text/plain": [
       "<IPython.core.display.HTML object>"
      ]
     },
     "metadata": {},
     "output_type": "display_data"
    },
    {
     "data": {
      "text/html": [
       "<p style=\"color:green; font-size: 24px;\">Bullish</p>"
      ],
      "text/plain": [
       "<IPython.core.display.HTML object>"
      ]
     },
     "metadata": {},
     "output_type": "display_data"
    },
    {
     "data": {
      "text/html": [
       "<hr>"
      ],
      "text/plain": [
       "<IPython.core.display.HTML object>"
      ]
     },
     "metadata": {},
     "output_type": "display_data"
    },
    {
     "data": {
      "text/html": [
       "<p style=\"color:green; font-size: 16px;\">Irrespective of High being before or after Low</p>"
      ],
      "text/plain": [
       "<IPython.core.display.HTML object>"
      ]
     },
     "metadata": {},
     "output_type": "display_data"
    },
    {
     "data": {
      "text/html": [
       "<table>\n",
       "<thead>\n",
       "<tr><th style=\"text-align: right;\">                           Bullish</th><th style=\"text-align: right;\">    All</th><th style=\"text-align: right;\">   Weak</th><th style=\"text-align: right;\">  Medium</th><th style=\"text-align: right;\">  Strong</th></tr>\n",
       "</thead>\n",
       "<tbody>\n",
       "<tr><td style=\"text-align: right;\">                           percent</td><td style=\"text-align: right;\">    49%</td><td style=\"text-align: right;\">    29%</td><td style=\"text-align: right;\">      8%</td><td style=\"text-align: right;\">     11%</td></tr>\n",
       "<tr><td style=\"text-align: right;\">                      average body</td><td style=\"text-align: right;\">0.00046</td><td style=\"text-align: right;\">0.00021</td><td style=\"text-align: right;\"> 0.00056</td><td style=\"text-align: right;\"> 0.00105</td></tr>\n",
       "<tr><td style=\"text-align: right;\">                average upper wick</td><td style=\"text-align: right;\">0.00021</td><td style=\"text-align: right;\">0.00024</td><td style=\"text-align: right;\"> 0.00018</td><td style=\"text-align: right;\"> 0.00016</td></tr>\n",
       "<tr><td style=\"text-align: right;\">                average lower wick</td><td style=\"text-align: right;\">0.00021</td><td style=\"text-align: right;\">0.00024</td><td style=\"text-align: right;\"> 0.00018</td><td style=\"text-align: right;\"> 0.00016</td></tr>\n",
       "<tr><td style=\"text-align: right;\">           average upper wick time</td><td style=\"text-align: right;\">    729</td><td style=\"text-align: right;\">    651</td><td style=\"text-align: right;\">     810</td><td style=\"text-align: right;\">     878</td></tr>\n",
       "<tr><td style=\"text-align: right;\">average upper wick time percentage</td><td style=\"text-align: right;\">    72%</td><td style=\"text-align: right;\">    65%</td><td style=\"text-align: right;\">     81%</td><td style=\"text-align: right;\">     87%</td></tr>\n",
       "<tr><td style=\"text-align: right;\">           average lower wick time</td><td style=\"text-align: right;\">    242</td><td style=\"text-align: right;\">    310</td><td style=\"text-align: right;\">     165</td><td style=\"text-align: right;\">     119</td></tr>\n",
       "<tr><td style=\"text-align: right;\">average lower wick time percentage</td><td style=\"text-align: right;\">    24%</td><td style=\"text-align: right;\">    31%</td><td style=\"text-align: right;\">     16%</td><td style=\"text-align: right;\">     11%</td></tr>\n",
       "</tbody>\n",
       "</table>"
      ],
      "text/plain": [
       "<IPython.core.display.HTML object>"
      ]
     },
     "metadata": {},
     "output_type": "display_data"
    },
    {
     "data": {
      "text/html": [
       "<hr>"
      ],
      "text/plain": [
       "<IPython.core.display.HTML object>"
      ]
     },
     "metadata": {},
     "output_type": "display_data"
    },
    {
     "data": {
      "text/html": [
       "<p style=\"color:green; font-size: 16px;\">High before Low</p>"
      ],
      "text/plain": [
       "<IPython.core.display.HTML object>"
      ]
     },
     "metadata": {},
     "output_type": "display_data"
    },
    {
     "data": {
      "text/html": [
       "<table>\n",
       "<thead>\n",
       "<tr><th style=\"text-align: right;\">                           Bullish</th><th style=\"text-align: right;\">    All</th><th style=\"text-align: right;\">   Weak</th><th style=\"text-align: right;\">  Medium</th><th style=\"text-align: right;\">  Strong</th></tr>\n",
       "</thead>\n",
       "<tbody>\n",
       "<tr><td style=\"text-align: right;\">                           percent</td><td style=\"text-align: right;\">     5%</td><td style=\"text-align: right;\">     5%</td><td style=\"text-align: right;\">      0%</td><td style=\"text-align: right;\">      0%</td></tr>\n",
       "<tr><td style=\"text-align: right;\">                      average body</td><td style=\"text-align: right;\">0.00014</td><td style=\"text-align: right;\">0.00013</td><td style=\"text-align: right;\"> 0.00052</td><td style=\"text-align: right;\"> 0.00117</td></tr>\n",
       "<tr><td style=\"text-align: right;\">                average upper wick</td><td style=\"text-align: right;\">0.00027</td><td style=\"text-align: right;\">0.00027</td><td style=\"text-align: right;\"> 0.00026</td><td style=\"text-align: right;\">  0.0003</td></tr>\n",
       "<tr><td style=\"text-align: right;\">                average lower wick</td><td style=\"text-align: right;\">0.00027</td><td style=\"text-align: right;\">0.00027</td><td style=\"text-align: right;\"> 0.00019</td><td style=\"text-align: right;\">  0.0004</td></tr>\n",
       "<tr><td style=\"text-align: right;\">           average upper wick time</td><td style=\"text-align: right;\">    297</td><td style=\"text-align: right;\">    296</td><td style=\"text-align: right;\">     318</td><td style=\"text-align: right;\">     461</td></tr>\n",
       "<tr><td style=\"text-align: right;\">average upper wick time percentage</td><td style=\"text-align: right;\">    29%</td><td style=\"text-align: right;\">    29%</td><td style=\"text-align: right;\">     31%</td><td style=\"text-align: right;\">     46%</td></tr>\n",
       "<tr><td style=\"text-align: right;\">           average lower wick time</td><td style=\"text-align: right;\">    677</td><td style=\"text-align: right;\">    677</td><td style=\"text-align: right;\">     673</td><td style=\"text-align: right;\">     622</td></tr>\n",
       "<tr><td style=\"text-align: right;\">average lower wick time percentage</td><td style=\"text-align: right;\">    67%</td><td style=\"text-align: right;\">    67%</td><td style=\"text-align: right;\">     67%</td><td style=\"text-align: right;\">     62%</td></tr>\n",
       "</tbody>\n",
       "</table>"
      ],
      "text/plain": [
       "<IPython.core.display.HTML object>"
      ]
     },
     "metadata": {},
     "output_type": "display_data"
    },
    {
     "data": {
      "text/html": [
       "<hr>"
      ],
      "text/plain": [
       "<IPython.core.display.HTML object>"
      ]
     },
     "metadata": {},
     "output_type": "display_data"
    },
    {
     "data": {
      "text/html": [
       "<p style=\"color:green; font-size: 16px;\">High after Low</p>"
      ],
      "text/plain": [
       "<IPython.core.display.HTML object>"
      ]
     },
     "metadata": {},
     "output_type": "display_data"
    },
    {
     "data": {
      "text/html": [
       "<table>\n",
       "<thead>\n",
       "<tr><th style=\"text-align: right;\">                           Bullish</th><th style=\"text-align: right;\">    All</th><th style=\"text-align: right;\">   Weak</th><th style=\"text-align: right;\">  Medium</th><th style=\"text-align: right;\">  Strong</th></tr>\n",
       "</thead>\n",
       "<tbody>\n",
       "<tr><td style=\"text-align: right;\">                           percent</td><td style=\"text-align: right;\">    43%</td><td style=\"text-align: right;\">    24%</td><td style=\"text-align: right;\">      8%</td><td style=\"text-align: right;\">     11%</td></tr>\n",
       "<tr><td style=\"text-align: right;\">                      average body</td><td style=\"text-align: right;\"> 0.0005</td><td style=\"text-align: right;\">0.00023</td><td style=\"text-align: right;\"> 0.00056</td><td style=\"text-align: right;\"> 0.00105</td></tr>\n",
       "<tr><td style=\"text-align: right;\">                average upper wick</td><td style=\"text-align: right;\">0.00021</td><td style=\"text-align: right;\">0.00024</td><td style=\"text-align: right;\"> 0.00018</td><td style=\"text-align: right;\"> 0.00016</td></tr>\n",
       "<tr><td style=\"text-align: right;\">                average lower wick</td><td style=\"text-align: right;\"> 0.0002</td><td style=\"text-align: right;\">0.00023</td><td style=\"text-align: right;\"> 0.00018</td><td style=\"text-align: right;\"> 0.00016</td></tr>\n",
       "<tr><td style=\"text-align: right;\">           average upper wick time</td><td style=\"text-align: right;\">    785</td><td style=\"text-align: right;\">    732</td><td style=\"text-align: right;\">     816</td><td style=\"text-align: right;\">     879</td></tr>\n",
       "<tr><td style=\"text-align: right;\">average upper wick time percentage</td><td style=\"text-align: right;\">    78%</td><td style=\"text-align: right;\">    73%</td><td style=\"text-align: right;\">     81%</td><td style=\"text-align: right;\">     87%</td></tr>\n",
       "<tr><td style=\"text-align: right;\">           average lower wick time</td><td style=\"text-align: right;\">    185</td><td style=\"text-align: right;\">    225</td><td style=\"text-align: right;\">     159</td><td style=\"text-align: right;\">     117</td></tr>\n",
       "<tr><td style=\"text-align: right;\">average lower wick time percentage</td><td style=\"text-align: right;\">    18%</td><td style=\"text-align: right;\">    22%</td><td style=\"text-align: right;\">     15%</td><td style=\"text-align: right;\">     11%</td></tr>\n",
       "</tbody>\n",
       "</table>"
      ],
      "text/plain": [
       "<IPython.core.display.HTML object>"
      ]
     },
     "metadata": {},
     "output_type": "display_data"
    },
    {
     "data": {
      "text/html": [
       "<hr>"
      ],
      "text/plain": [
       "<IPython.core.display.HTML object>"
      ]
     },
     "metadata": {},
     "output_type": "display_data"
    },
    {
     "data": {
      "text/html": [
       "<hr>"
      ],
      "text/plain": [
       "<IPython.core.display.HTML object>"
      ]
     },
     "metadata": {},
     "output_type": "display_data"
    },
    {
     "data": {
      "text/html": [
       "<p style=\"color:red; font-size: 24px;\">Bearish</p>"
      ],
      "text/plain": [
       "<IPython.core.display.HTML object>"
      ]
     },
     "metadata": {},
     "output_type": "display_data"
    },
    {
     "data": {
      "text/html": [
       "<hr>"
      ],
      "text/plain": [
       "<IPython.core.display.HTML object>"
      ]
     },
     "metadata": {},
     "output_type": "display_data"
    },
    {
     "data": {
      "text/html": [
       "<p style=\"color:red; font-size: 16px;\">Irrespective of High being before or after Low</p>"
      ],
      "text/plain": [
       "<IPython.core.display.HTML object>"
      ]
     },
     "metadata": {},
     "output_type": "display_data"
    },
    {
     "data": {
      "text/html": [
       "<table>\n",
       "<thead>\n",
       "<tr><th style=\"text-align: right;\">                           Bearish</th><th style=\"text-align: right;\">    All</th><th style=\"text-align: right;\">   Weak</th><th style=\"text-align: right;\">  Medium</th><th style=\"text-align: right;\">  Strong</th></tr>\n",
       "</thead>\n",
       "<tbody>\n",
       "<tr><td style=\"text-align: right;\">                           percent</td><td style=\"text-align: right;\">    49%</td><td style=\"text-align: right;\">    29%</td><td style=\"text-align: right;\">      8%</td><td style=\"text-align: right;\">     11%</td></tr>\n",
       "<tr><td style=\"text-align: right;\">                      average body</td><td style=\"text-align: right;\">0.00046</td><td style=\"text-align: right;\">0.00021</td><td style=\"text-align: right;\"> 0.00056</td><td style=\"text-align: right;\"> 0.00104</td></tr>\n",
       "<tr><td style=\"text-align: right;\">                average upper wick</td><td style=\"text-align: right;\">0.00021</td><td style=\"text-align: right;\">0.00024</td><td style=\"text-align: right;\"> 0.00018</td><td style=\"text-align: right;\"> 0.00015</td></tr>\n",
       "<tr><td style=\"text-align: right;\">                average lower wick</td><td style=\"text-align: right;\">0.00022</td><td style=\"text-align: right;\">0.00025</td><td style=\"text-align: right;\">  0.0002</td><td style=\"text-align: right;\"> 0.00016</td></tr>\n",
       "<tr><td style=\"text-align: right;\">           average upper wick time</td><td style=\"text-align: right;\">    245</td><td style=\"text-align: right;\">    315</td><td style=\"text-align: right;\">     172</td><td style=\"text-align: right;\">     115</td></tr>\n",
       "<tr><td style=\"text-align: right;\">average upper wick time percentage</td><td style=\"text-align: right;\">    24%</td><td style=\"text-align: right;\">    31%</td><td style=\"text-align: right;\">     17%</td><td style=\"text-align: right;\">     11%</td></tr>\n",
       "<tr><td style=\"text-align: right;\">           average lower wick time</td><td style=\"text-align: right;\">    729</td><td style=\"text-align: right;\">    652</td><td style=\"text-align: right;\">     805</td><td style=\"text-align: right;\">     876</td></tr>\n",
       "<tr><td style=\"text-align: right;\">average lower wick time percentage</td><td style=\"text-align: right;\">    72%</td><td style=\"text-align: right;\">    65%</td><td style=\"text-align: right;\">     80%</td><td style=\"text-align: right;\">     87%</td></tr>\n",
       "</tbody>\n",
       "</table>"
      ],
      "text/plain": [
       "<IPython.core.display.HTML object>"
      ]
     },
     "metadata": {},
     "output_type": "display_data"
    },
    {
     "data": {
      "text/html": [
       "<hr>"
      ],
      "text/plain": [
       "<IPython.core.display.HTML object>"
      ]
     },
     "metadata": {},
     "output_type": "display_data"
    },
    {
     "data": {
      "text/html": [
       "<p style=\"color:red; font-size: 16px;\">High before Low</p>"
      ],
      "text/plain": [
       "<IPython.core.display.HTML object>"
      ]
     },
     "metadata": {},
     "output_type": "display_data"
    },
    {
     "data": {
      "text/html": [
       "<table>\n",
       "<thead>\n",
       "<tr><th style=\"text-align: right;\">                           Bearish</th><th style=\"text-align: right;\">    All</th><th style=\"text-align: right;\">   Weak</th><th style=\"text-align: right;\">  Medium</th><th style=\"text-align: right;\">  Strong</th></tr>\n",
       "</thead>\n",
       "<tbody>\n",
       "<tr><td style=\"text-align: right;\">                           percent</td><td style=\"text-align: right;\">    43%</td><td style=\"text-align: right;\">    24%</td><td style=\"text-align: right;\">      8%</td><td style=\"text-align: right;\">     11%</td></tr>\n",
       "<tr><td style=\"text-align: right;\">                      average body</td><td style=\"text-align: right;\"> 0.0005</td><td style=\"text-align: right;\">0.00023</td><td style=\"text-align: right;\"> 0.00056</td><td style=\"text-align: right;\"> 0.00104</td></tr>\n",
       "<tr><td style=\"text-align: right;\">                average upper wick</td><td style=\"text-align: right;\"> 0.0002</td><td style=\"text-align: right;\">0.00023</td><td style=\"text-align: right;\"> 0.00018</td><td style=\"text-align: right;\"> 0.00015</td></tr>\n",
       "<tr><td style=\"text-align: right;\">                average lower wick</td><td style=\"text-align: right;\">0.00021</td><td style=\"text-align: right;\">0.00024</td><td style=\"text-align: right;\">  0.0002</td><td style=\"text-align: right;\"> 0.00016</td></tr>\n",
       "<tr><td style=\"text-align: right;\">           average upper wick time</td><td style=\"text-align: right;\">    185</td><td style=\"text-align: right;\">    226</td><td style=\"text-align: right;\">     165</td><td style=\"text-align: right;\">     114</td></tr>\n",
       "<tr><td style=\"text-align: right;\">average upper wick time percentage</td><td style=\"text-align: right;\">    18%</td><td style=\"text-align: right;\">    22%</td><td style=\"text-align: right;\">     16%</td><td style=\"text-align: right;\">     11%</td></tr>\n",
       "<tr><td style=\"text-align: right;\">           average lower wick time</td><td style=\"text-align: right;\">    788</td><td style=\"text-align: right;\">    738</td><td style=\"text-align: right;\">     811</td><td style=\"text-align: right;\">     877</td></tr>\n",
       "<tr><td style=\"text-align: right;\">average lower wick time percentage</td><td style=\"text-align: right;\">    78%</td><td style=\"text-align: right;\">    73%</td><td style=\"text-align: right;\">     81%</td><td style=\"text-align: right;\">     87%</td></tr>\n",
       "</tbody>\n",
       "</table>"
      ],
      "text/plain": [
       "<IPython.core.display.HTML object>"
      ]
     },
     "metadata": {},
     "output_type": "display_data"
    },
    {
     "data": {
      "text/html": [
       "<hr>"
      ],
      "text/plain": [
       "<IPython.core.display.HTML object>"
      ]
     },
     "metadata": {},
     "output_type": "display_data"
    },
    {
     "data": {
      "text/html": [
       "<p style=\"color:red; font-size: 16px;\">High after Low</p>"
      ],
      "text/plain": [
       "<IPython.core.display.HTML object>"
      ]
     },
     "metadata": {},
     "output_type": "display_data"
    },
    {
     "data": {
      "text/html": [
       "<table>\n",
       "<thead>\n",
       "<tr><th style=\"text-align: right;\">                           Bearish</th><th style=\"text-align: right;\">    All</th><th style=\"text-align: right;\">   Weak</th><th style=\"text-align: right;\">  Medium</th><th style=\"text-align: right;\">  Strong</th></tr>\n",
       "</thead>\n",
       "<tbody>\n",
       "<tr><td style=\"text-align: right;\">                           percent</td><td style=\"text-align: right;\">     6%</td><td style=\"text-align: right;\">     5%</td><td style=\"text-align: right;\">      0%</td><td style=\"text-align: right;\">      0%</td></tr>\n",
       "<tr><td style=\"text-align: right;\">                      average body</td><td style=\"text-align: right;\">0.00014</td><td style=\"text-align: right;\">0.00013</td><td style=\"text-align: right;\"> 0.00053</td><td style=\"text-align: right;\"> 0.00078</td></tr>\n",
       "<tr><td style=\"text-align: right;\">                average upper wick</td><td style=\"text-align: right;\">0.00027</td><td style=\"text-align: right;\">0.00027</td><td style=\"text-align: right;\"> 0.00021</td><td style=\"text-align: right;\"> 0.00038</td></tr>\n",
       "<tr><td style=\"text-align: right;\">                average lower wick</td><td style=\"text-align: right;\">0.00028</td><td style=\"text-align: right;\">0.00028</td><td style=\"text-align: right;\">  0.0002</td><td style=\"text-align: right;\"> 0.00021</td></tr>\n",
       "<tr><td style=\"text-align: right;\">           average upper wick time</td><td style=\"text-align: right;\">    679</td><td style=\"text-align: right;\">    679</td><td style=\"text-align: right;\">     684</td><td style=\"text-align: right;\">     647</td></tr>\n",
       "<tr><td style=\"text-align: right;\">average upper wick time percentage</td><td style=\"text-align: right;\">    67%</td><td style=\"text-align: right;\">    67%</td><td style=\"text-align: right;\">     68%</td><td style=\"text-align: right;\">     64%</td></tr>\n",
       "<tr><td style=\"text-align: right;\">           average lower wick time</td><td style=\"text-align: right;\">    299</td><td style=\"text-align: right;\">    298</td><td style=\"text-align: right;\">     353</td><td style=\"text-align: right;\">     395</td></tr>\n",
       "<tr><td style=\"text-align: right;\">average lower wick time percentage</td><td style=\"text-align: right;\">    29%</td><td style=\"text-align: right;\">    29%</td><td style=\"text-align: right;\">     35%</td><td style=\"text-align: right;\">     39%</td></tr>\n",
       "</tbody>\n",
       "</table>"
      ],
      "text/plain": [
       "<IPython.core.display.HTML object>"
      ]
     },
     "metadata": {},
     "output_type": "display_data"
    },
    {
     "data": {
      "text/html": [
       "<hr>"
      ],
      "text/plain": [
       "<IPython.core.display.HTML object>"
      ]
     },
     "metadata": {},
     "output_type": "display_data"
    },
    {
     "data": {
      "text/html": [
       "<hr>"
      ],
      "text/plain": [
       "<IPython.core.display.HTML object>"
      ]
     },
     "metadata": {},
     "output_type": "display_data"
    },
    {
     "data": {
      "text/html": [
       "<p style=\"color:orange; font-size: 24px;\">Doji</p>"
      ],
      "text/plain": [
       "<IPython.core.display.HTML object>"
      ]
     },
     "metadata": {},
     "output_type": "display_data"
    },
    {
     "data": {
      "text/html": [
       "<hr>"
      ],
      "text/plain": [
       "<IPython.core.display.HTML object>"
      ]
     },
     "metadata": {},
     "output_type": "display_data"
    },
    {
     "data": {
      "text/html": [
       "<p style=\"color:orange; font-size: 16px;\">Irrespective of High being before or after Low</p>"
      ],
      "text/plain": [
       "<IPython.core.display.HTML object>"
      ]
     },
     "metadata": {},
     "output_type": "display_data"
    },
    {
     "data": {
      "text/html": [
       "<table>\n",
       "<thead>\n",
       "<tr><th style=\"text-align: right;\">                              Doji</th><th style=\"text-align: right;\">    All</th><th style=\"text-align: right;\">   Weak</th><th style=\"text-align: right;\">  Medium</th><th style=\"text-align: right;\">  Strong</th></tr>\n",
       "</thead>\n",
       "<tbody>\n",
       "<tr><td style=\"text-align: right;\">                           percent</td><td style=\"text-align: right;\">     0%</td><td style=\"text-align: right;\">     0%</td><td style=\"text-align: right;\">      0%</td><td style=\"text-align: right;\">      0%</td></tr>\n",
       "<tr><td style=\"text-align: right;\">                      average body</td><td style=\"text-align: right;\">    0.0</td><td style=\"text-align: right;\">    0.0</td><td style=\"text-align: right;\">       0</td><td style=\"text-align: right;\">       0</td></tr>\n",
       "<tr><td style=\"text-align: right;\">                average upper wick</td><td style=\"text-align: right;\">0.00031</td><td style=\"text-align: right;\">0.00031</td><td style=\"text-align: right;\">       0</td><td style=\"text-align: right;\">       0</td></tr>\n",
       "<tr><td style=\"text-align: right;\">                average lower wick</td><td style=\"text-align: right;\">0.00031</td><td style=\"text-align: right;\">0.00031</td><td style=\"text-align: right;\">       0</td><td style=\"text-align: right;\">       0</td></tr>\n",
       "<tr><td style=\"text-align: right;\">           average upper wick time</td><td style=\"text-align: right;\">    476</td><td style=\"text-align: right;\">    476</td><td style=\"text-align: right;\">       0</td><td style=\"text-align: right;\">       0</td></tr>\n",
       "<tr><td style=\"text-align: right;\">average upper wick time percentage</td><td style=\"text-align: right;\">    47%</td><td style=\"text-align: right;\">    47%</td><td style=\"text-align: right;\">       0</td><td style=\"text-align: right;\">       0</td></tr>\n",
       "<tr><td style=\"text-align: right;\">           average lower wick time</td><td style=\"text-align: right;\">    479</td><td style=\"text-align: right;\">    479</td><td style=\"text-align: right;\">       0</td><td style=\"text-align: right;\">       0</td></tr>\n",
       "<tr><td style=\"text-align: right;\">average lower wick time percentage</td><td style=\"text-align: right;\">    47%</td><td style=\"text-align: right;\">    47%</td><td style=\"text-align: right;\">       0</td><td style=\"text-align: right;\">       0</td></tr>\n",
       "</tbody>\n",
       "</table>"
      ],
      "text/plain": [
       "<IPython.core.display.HTML object>"
      ]
     },
     "metadata": {},
     "output_type": "display_data"
    },
    {
     "data": {
      "text/html": [
       "<hr>"
      ],
      "text/plain": [
       "<IPython.core.display.HTML object>"
      ]
     },
     "metadata": {},
     "output_type": "display_data"
    },
    {
     "data": {
      "text/html": [
       "<p style=\"color:orange; font-size: 16px;\">High before Low</p>"
      ],
      "text/plain": [
       "<IPython.core.display.HTML object>"
      ]
     },
     "metadata": {},
     "output_type": "display_data"
    },
    {
     "data": {
      "text/html": [
       "<table>\n",
       "<thead>\n",
       "<tr><th style=\"text-align: right;\">                              Doji</th><th style=\"text-align: right;\">    All</th><th style=\"text-align: right;\">   Weak</th><th style=\"text-align: right;\">  Medium</th><th style=\"text-align: right;\">  Strong</th></tr>\n",
       "</thead>\n",
       "<tbody>\n",
       "<tr><td style=\"text-align: right;\">                           percent</td><td style=\"text-align: right;\">     0%</td><td style=\"text-align: right;\">     0%</td><td style=\"text-align: right;\">      0%</td><td style=\"text-align: right;\">      0%</td></tr>\n",
       "<tr><td style=\"text-align: right;\">                      average body</td><td style=\"text-align: right;\">    0.0</td><td style=\"text-align: right;\">    0.0</td><td style=\"text-align: right;\">       0</td><td style=\"text-align: right;\">       0</td></tr>\n",
       "<tr><td style=\"text-align: right;\">                average upper wick</td><td style=\"text-align: right;\"> 0.0003</td><td style=\"text-align: right;\"> 0.0003</td><td style=\"text-align: right;\">       0</td><td style=\"text-align: right;\">       0</td></tr>\n",
       "<tr><td style=\"text-align: right;\">                average lower wick</td><td style=\"text-align: right;\">0.00031</td><td style=\"text-align: right;\">0.00031</td><td style=\"text-align: right;\">       0</td><td style=\"text-align: right;\">       0</td></tr>\n",
       "<tr><td style=\"text-align: right;\">           average upper wick time</td><td style=\"text-align: right;\">    265</td><td style=\"text-align: right;\">    265</td><td style=\"text-align: right;\">       0</td><td style=\"text-align: right;\">       0</td></tr>\n",
       "<tr><td style=\"text-align: right;\">average upper wick time percentage</td><td style=\"text-align: right;\">    26%</td><td style=\"text-align: right;\">    26%</td><td style=\"text-align: right;\">       0</td><td style=\"text-align: right;\">       0</td></tr>\n",
       "<tr><td style=\"text-align: right;\">           average lower wick time</td><td style=\"text-align: right;\">    680</td><td style=\"text-align: right;\">    680</td><td style=\"text-align: right;\">       0</td><td style=\"text-align: right;\">       0</td></tr>\n",
       "<tr><td style=\"text-align: right;\">average lower wick time percentage</td><td style=\"text-align: right;\">    68%</td><td style=\"text-align: right;\">    68%</td><td style=\"text-align: right;\">       0</td><td style=\"text-align: right;\">       0</td></tr>\n",
       "</tbody>\n",
       "</table>"
      ],
      "text/plain": [
       "<IPython.core.display.HTML object>"
      ]
     },
     "metadata": {},
     "output_type": "display_data"
    },
    {
     "data": {
      "text/html": [
       "<hr>"
      ],
      "text/plain": [
       "<IPython.core.display.HTML object>"
      ]
     },
     "metadata": {},
     "output_type": "display_data"
    },
    {
     "data": {
      "text/html": [
       "<p style=\"color:orange; font-size: 16px;\">High after Low</p>"
      ],
      "text/plain": [
       "<IPython.core.display.HTML object>"
      ]
     },
     "metadata": {},
     "output_type": "display_data"
    },
    {
     "data": {
      "text/html": [
       "<table>\n",
       "<thead>\n",
       "<tr><th style=\"text-align: right;\">                              Doji</th><th style=\"text-align: right;\">    All</th><th style=\"text-align: right;\">   Weak</th><th style=\"text-align: right;\">  Medium</th><th style=\"text-align: right;\">  Strong</th></tr>\n",
       "</thead>\n",
       "<tbody>\n",
       "<tr><td style=\"text-align: right;\">                           percent</td><td style=\"text-align: right;\">     0%</td><td style=\"text-align: right;\">     0%</td><td style=\"text-align: right;\">      0%</td><td style=\"text-align: right;\">      0%</td></tr>\n",
       "<tr><td style=\"text-align: right;\">                      average body</td><td style=\"text-align: right;\">    0.0</td><td style=\"text-align: right;\">    0.0</td><td style=\"text-align: right;\">       0</td><td style=\"text-align: right;\">       0</td></tr>\n",
       "<tr><td style=\"text-align: right;\">                average upper wick</td><td style=\"text-align: right;\">0.00031</td><td style=\"text-align: right;\">0.00031</td><td style=\"text-align: right;\">       0</td><td style=\"text-align: right;\">       0</td></tr>\n",
       "<tr><td style=\"text-align: right;\">                average lower wick</td><td style=\"text-align: right;\">0.00031</td><td style=\"text-align: right;\">0.00031</td><td style=\"text-align: right;\">       0</td><td style=\"text-align: right;\">       0</td></tr>\n",
       "<tr><td style=\"text-align: right;\">           average upper wick time</td><td style=\"text-align: right;\">    686</td><td style=\"text-align: right;\">    686</td><td style=\"text-align: right;\">       0</td><td style=\"text-align: right;\">       0</td></tr>\n",
       "<tr><td style=\"text-align: right;\">average upper wick time percentage</td><td style=\"text-align: right;\">    68%</td><td style=\"text-align: right;\">    68%</td><td style=\"text-align: right;\">       0</td><td style=\"text-align: right;\">       0</td></tr>\n",
       "<tr><td style=\"text-align: right;\">           average lower wick time</td><td style=\"text-align: right;\">    279</td><td style=\"text-align: right;\">    279</td><td style=\"text-align: right;\">       0</td><td style=\"text-align: right;\">       0</td></tr>\n",
       "<tr><td style=\"text-align: right;\">average lower wick time percentage</td><td style=\"text-align: right;\">    27%</td><td style=\"text-align: right;\">    27%</td><td style=\"text-align: right;\">       0</td><td style=\"text-align: right;\">       0</td></tr>\n",
       "</tbody>\n",
       "</table>"
      ],
      "text/plain": [
       "<IPython.core.display.HTML object>"
      ]
     },
     "metadata": {},
     "output_type": "display_data"
    }
   ],
   "source": [
    "# Possible values in each column\n",
    "unique_biases = ['Bullish','Bearish','Doji'] \n",
    "unique_strengthes = ['All','Weak','Medium','Strong']\n",
    "unique_high_first_values = ['All',True,False]\n",
    "\n",
    "\n",
    "# Create a list to store the results\n",
    "result_data = []\n",
    "\n",
    "#pd.options.display.float_format = '{:.5f}'.format\n",
    "\n",
    "biases_data = [\n",
    "    #(\"sample size\"),\n",
    "    (\"percent\"),\n",
    "    (\"average body\"),\n",
    "    (\"average upper wick\"),\n",
    "    (\"average lower wick\"),\n",
    "    (\"average upper wick time\"),\n",
    "    (\"average upper wick time percentage\"),\n",
    "    (\"average lower wick time\"),\n",
    "    (\"average lower wick time percentage\"),\n",
    "]\n",
    "\n",
    "\n",
    "for bias in unique_biases:\n",
    "    display(HTML(\"<hr>\"))\n",
    "    display(HTML(\"<hr>\"))\n",
    "    print_ = f'<p style=\"color:{\"green\" if bias == \"Bullish\" else \"red\" if bias == \"Bearish\" else \"orange\"}; font-size: 24px;\">{bias}</p>'\n",
    "    display(HTML(print_))\n",
    "    \n",
    "    biases_df = pd.DataFrame(biases_data, columns=[f'{bias}'])\n",
    "\n",
    "    for high_first in unique_high_first_values:\n",
    "        display(HTML(\"<hr>\"))\n",
    "        info_high = 'Irrespective of High being before or after Low' if high_first == 'All' else 'High before Low' if high_first == True else 'High after Low'\n",
    "        print_ = f'<p style=\"color:{\"green\" if bias == \"Bullish\" else \"red\" if bias == \"Bearish\" else \"orange\"}; font-size: 16px;\">{info_high}</p>'\n",
    "        display(HTML(print_))\n",
    "\n",
    "        for strength in unique_strengthes:\n",
    "        \n",
    "            if strength == 'All' and high_first == 'All':\n",
    "                subset = df[df['Bias'] == bias]\n",
    "\n",
    "            elif strength == 'All' and high_first != 'All':\n",
    "                subset = df[(df['Bias'] == bias) & (df['High First'] == high_first)]\n",
    "\n",
    "            elif strength != 'All' and high_first == 'All':\n",
    "                subset = df[(df['Bias'] == bias) & (df['Strength'] == strength)]\n",
    "\n",
    "            elif strength != 'All' and high_first != 'All':\n",
    "                subset = df[(df['Bias'] == bias) & (df['High First'] == high_first) & (df['Strength'] == strength)]\n",
    "            \n",
    "            sample = ( subset.size / df.size ) *100 # This is the % of occurrences\n",
    "\n",
    "            # Average OC\n",
    "            mean_oc = subset['Open - Close'].mean()\n",
    "            # Average wick\n",
    "            mean_uw = subset['Upper Wick'].mean()\n",
    "            mean_lw = subset['Lower Wick'].mean()\n",
    "            \n",
    "            mean_uwt = subset['High Time'].mean()\n",
    "            mean_lwt = subset['Low Time'].mean()\n",
    "\n",
    "            mean_uwt_pct = ( subset['High Time'].mean() / price_frame ) *100\n",
    "            mean_lwt_pct = ( subset['Low Time'].mean() / price_frame ) *100 \n",
    "            \n",
    "            biases_df[strength] = [\n",
    "                f'{int(sample)}%' if not np.isnan(sample) else 0,\n",
    "                round(mean_oc, 5) if not np.isnan(mean_oc) else 0,\n",
    "                round(mean_uw, 5) if not np.isnan(mean_uw) else 0,\n",
    "                round(mean_lw, 5) if not np.isnan(mean_lw) else 0,\n",
    "                int(mean_uwt) if not np.isnan(mean_uwt) else 0,\n",
    "                f'{int(mean_uwt_pct)}%' if not np.isnan(mean_uwt_pct) else 0,\n",
    "                int(mean_lwt) if not np.isnan(mean_lwt) else 0,\n",
    "                f'{int(mean_lwt_pct)}%' if not np.isnan(mean_lwt_pct) else 0\n",
    "            ]\n",
    "    \n",
    "        display(HTML(tabulate(biases_df, headers='keys', tablefmt='html', showindex=False, floatfmt=\".5f\", numalign=\"center\", stralign=\"right\")))\n",
    "\n",
    "\n"
   ]
  }
 ],
 "metadata": {
  "kernelspec": {
   "display_name": "Python",
   "language": "python",
   "name": "python3"
  },
  "language_info": {
   "codemirror_mode": {
    "name": "ipython",
    "version": 3
   },
   "file_extension": ".py",
   "mimetype": "text/x-python",
   "name": "python",
   "nbconvert_exporter": "python",
   "pygments_lexer": "ipython3",
   "version": "3.11.7"
  }
 },
 "nbformat": 4,
 "nbformat_minor": 2
}
